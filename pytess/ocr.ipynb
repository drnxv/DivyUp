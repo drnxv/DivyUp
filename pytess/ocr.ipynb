{
 "cells": [
  {
   "cell_type": "code",
   "execution_count": 47,
   "metadata": {},
   "outputs": [],
   "source": [
    "from PIL import Image\n",
    "import pytesseract\n",
    "import argparse\n",
    "import cv2\n",
    "import os\n",
    "import pandas as pd\n",
    "import seaborn as sns\n",
    "import matplotlib.pyplot as plt\n",
    "import numpy as np\n",
    "import csv\n",
    "import nltk\n",
    "import re\n",
    "from nltk.tokenize import word_tokenize\n",
    "from nltk.corpus import wordnet "
   ]
  },
  {
   "cell_type": "markdown",
   "metadata": {},
   "source": []
  },
  {
   "cell_type": "code",
   "execution_count": 64,
   "metadata": {},
   "outputs": [],
   "source": [
    "\n",
    "image=cv2.imread('/Users/realpranavc/REAL BITCAMP/Bitcamp-2023/images/online-receipt-maker-and-design-food-templates_wo_Image.png')\n",
    "# image2 = cv2.normalize(image, None, 0, 1.0, cv2.NORM_MINMAX, dtype=cv2.CV_32F)\n",
    "gray = cv2.cvtColor(image, cv2.COLOR_BGR2GRAY)\n",
    "\n",
    "resultimage = np.zeros((800, 800))\n",
    "#normalizing the given image using normalize() function\n",
    "normalizedimage = cv2.normalize(gray,resultimage, 0, 100, cv2.NORM_MINMAX)\n"
   ]
  },
  {
   "cell_type": "code",
   "execution_count": 65,
   "metadata": {},
   "outputs": [
    {
     "name": "stdout",
     "output_type": "stream",
     "text": [
      "food business center\n",
      "\n",
      "23232, java city, selangor\n",
      "\n",
      "ny, usa\n",
      "tel : 03-435435435\n",
      "table - 06\n",
      "check # 622967 pax(s): 04\n",
      "date 11/01/2020 18:34\n",
      "\n",
      "cashier david smith\n",
      "\n",
      "4 chinese buffet 51.96\n",
      "4 soda 7:96\n",
      "4 desserts 1556\n",
      "sbtotl: ststs—<cs~s—“‘is~s*~*s*~*«sscb\n",
      "food tax 2:90\n",
      "local tax 1.28\n",
      "total : 79.66\n",
      "\n",
      "take home a bag of meatballs and 2 pkgs. of\n",
      "cream sauce for only $9.99\n",
      "made from an authentic recipe!\n",
      "\n",
      "Tax: \n",
      "1.28\n",
      "Amount:\n",
      "79.66\n",
      "Subtotal:\n",
      "78.38\n",
      "Items:\n",
      "['chinese buffet', 'desserts']\n",
      "Prices:\n",
      "['51.96', '1556']\n",
      "Quantity:\n",
      "[4, 4]\n"
     ]
    }
   ],
   "source": [
    "#convert it into text\n",
    "text=(pytesseract.image_to_string(gray)).lower()\n",
    "vals = text.split('\\n')\n",
    "pattern = r'^(\\d*)\\s*([[a-zA-Z+|\\s|\\d]+)\\:? (\\$?(\\d+\\.*\\d+))$'\n",
    "prices= []\n",
    "items= []\n",
    "quantity= []\n",
    "prices_no_dollar= []\n",
    "\n",
    "amount= 0\n",
    "tax= 0\n",
    "subtotal= 0\n",
    "\n",
    "done= True\n",
    "for line in vals:\n",
    "    print( line)\n",
    "    # print( re.match(pattern, line))\n",
    "    max1= re.match(pattern, line)\n",
    "    if max1:\n",
    "        if float(max1.group(4)) <= 10000:\n",
    "            if \"amount\" in (max1.group(2)).lower() or \"total\" in (max1.group(2)).lower():\n",
    "                amount= float(max1.group(4))\n",
    "                done= False\n",
    "            elif \"tax\" in (max1.group(2)).lower():\n",
    "                tax= float(max1.group(4))\n",
    "                done= False\n",
    "            else:\n",
    "                if done:\n",
    "                    if max1.group(1) == \"\":\n",
    "                        quantity.append(1)\n",
    "                    else:\n",
    "                        quantity.append(int(max1.group(1)))\n",
    "                    items.append(max1.group(2))\n",
    "                    prices.append(max1.group(3))\n",
    "                    prices_no_dollar.append(max1.group(4))\n",
    "\n",
    "subtotal= amount-tax    \n",
    "print(\"Tax: \")  \n",
    "print(tax)\n",
    "print(\"Amount:\")\n",
    "print(amount)\n",
    "print(\"Subtotal:\")\n",
    "print(subtotal)\n",
    "print(\"Items:\")\n",
    "print(items)\n",
    "# print(prices)\n",
    "print(\"Prices:\")\n",
    "print(prices_no_dollar)\n",
    "print(\"Quantity:\")\n",
    "print(quantity)"
   ]
  },
  {
   "cell_type": "code",
   "execution_count": null,
   "metadata": {},
   "outputs": [],
   "source": []
  }
 ],
 "metadata": {
  "kernelspec": {
   "display_name": "Python 3",
   "language": "python",
   "name": "python3"
  },
  "language_info": {
   "codemirror_mode": {
    "name": "ipython",
    "version": 3
   },
   "file_extension": ".py",
   "mimetype": "text/x-python",
   "name": "python",
   "nbconvert_exporter": "python",
   "pygments_lexer": "ipython3",
   "version": "3.11.2"
  }
 },
 "nbformat": 4,
 "nbformat_minor": 4
}
