{
 "cells": [
  {
   "cell_type": "code",
   "execution_count": 5,
   "metadata": {},
   "outputs": [],
   "source": [
    "from PIL import Image\n",
    "import pytesseract\n",
    "import argparse\n",
    "import cv2\n",
    "import os\n",
    "import pandas as pd\n",
    "import seaborn as sns\n",
    "import matplotlib.pyplot as plt\n",
    "import numpy as np\n",
    "import csv\n",
    "import nltk\n",
    "import re\n",
    "from nltk.tokenize import word_tokenize\n",
    "from nltk.corpus import wordnet "
   ]
  },
  {
   "cell_type": "markdown",
   "metadata": {},
   "source": [
    "read the below dummy model as i have elaborated every step after the code.\n",
    "the below code shows how i created 7 csv files .i have gave demo of one bill in this notbook."
   ]
  },
  {
   "cell_type": "code",
   "execution_count": 6,
   "metadata": {},
   "outputs": [
    {
     "name": "stdout",
     "output_type": "stream",
     "text": [
      "Ying Thai Kitchen\n",
      "‘Queen: Anne AVE WV\n",
      "Seattle Wa 98109\n",
      "Tel. (206) 205-8424 Fax. (206) 286-607\n",
      "ww. yingtha tk tchen.com\n",
      "Welcose to Ying That Kitchen Restaurant .\n",
      "\n",
      "Order#:17 Table 2\n",
      "TAf2O13 7:28 PH\n",
      "ek (hay\n",
      "\n",
      "Total 2 1tea(s) O10\n",
      "Salee Tax\n",
      "\n",
      "Grand Total 12.59\n",
      "\n",
      "Coan back aout”\n",
      "\n"
     ]
    }
   ],
   "source": [
    "import cv2\n",
    "import pytesseract\n",
    "import re\n",
    "\n",
    "# Load the image\n",
    "image = cv2.imread('/Users/realpranavc/OCR-bill-detection/bill3 copy.png')\n",
    "\n",
    "# Preprocess the image\n",
    "gray = cv2.cvtColor(image, cv2.COLOR_BGR2GRAY)\n",
    "blur = cv2.GaussianBlur(gray, (3,3), 0)\n",
    "thresh = cv2.threshold(blur, 0, 255, cv2.THRESH_BINARY + cv2.THRESH_OTSU)[1]\n",
    "\n",
    "# Perform OCR\n",
    "text = pytesseract.image_to_string(thresh)\n",
    "print(text)"
   ]
  },
  {
   "cell_type": "code",
   "execution_count": 7,
   "metadata": {},
   "outputs": [],
   "source": [
    "#question one\n",
    "#lets read an image\n",
    "image=cv2.imread('/Users/realpranavc/OCR-bill-detection/bill3 copy.png')\n",
    "# image2 = cv2.normalize(image, None, 0, 1.0, cv2.NORM_MINMAX, dtype=cv2.CV_32F)\n",
    "gray = cv2.cvtColor(image, cv2.COLOR_BGR2GRAY)\n",
    "\n",
    "resultimage = np.zeros((800, 800))\n",
    "#normalizing the given image using normalize() function\n",
    "normalizedimage = cv2.normalize(gray,resultimage, 0, 100, cv2.NORM_MINMAX)\n"
   ]
  },
  {
   "cell_type": "code",
   "execution_count": 8,
   "metadata": {},
   "outputs": [
    {
     "name": "stdout",
     "output_type": "stream",
     "text": [
      "['ginger lover', 'brown rice', 'total 2 iten(s)', 'sales tax', 'grand total']\n",
      "['$9.50', '$2.00', '$11.50', '$1.09', '$12.59']\n",
      "[44, 1, 1, 1, 1]\n"
     ]
    }
   ],
   "source": [
    "#convert it into text\n",
    "text=(pytesseract.image_to_string(normalizedimage)).lower()\n",
    "vals = text.split('\\n')\n",
    "pattern = r'(\\d*)\\s*([\\S+\\s*]*) (\\$?(\\d+\\.*\\d+))$'\n",
    "prices= []\n",
    "items= []\n",
    "quantity= []\n",
    "for line in vals:\n",
    "    # print( line)\n",
    "    # print( re.match(pattern, line))\n",
    "    max1= re.match(pattern, line)\n",
    "    if max1:\n",
    "        if float(max1.group(4)) <= 10000:\n",
    "            if max1.group(1) == \"\":\n",
    "                quantity.append(1)\n",
    "            else:\n",
    "                quantity.append(int(max1.group(1)))\n",
    "            items.append(max1.group(2))\n",
    "            prices.append(max1.group(3))\n",
    "print(items)\n",
    "print(prices)\n",
    "print(quantity)\n"
   ]
  }
 ],
 "metadata": {
  "kernelspec": {
   "display_name": "Python 3",
   "language": "python",
   "name": "python3"
  },
  "language_info": {
   "codemirror_mode": {
    "name": "ipython",
    "version": 3
   },
   "file_extension": ".py",
   "mimetype": "text/x-python",
   "name": "python",
   "nbconvert_exporter": "python",
   "pygments_lexer": "ipython3",
   "version": "3.11.2"
  }
 },
 "nbformat": 4,
 "nbformat_minor": 4
}
