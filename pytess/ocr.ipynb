{
 "cells": [
  {
   "cell_type": "code",
   "execution_count": 40,
   "metadata": {},
   "outputs": [],
   "source": [
    "from PIL import Image\n",
    "import pytesseract\n",
    "import argparse\n",
    "import cv2\n",
    "import os\n",
    "import pandas as pd\n",
    "import seaborn as sns\n",
    "import matplotlib.pyplot as plt\n",
    "import numpy as np\n",
    "import csv\n",
    "import nltk\n",
    "import re\n",
    "from nltk.tokenize import word_tokenize\n",
    "from nltk.corpus import wordnet "
   ]
  },
  {
   "cell_type": "markdown",
   "metadata": {},
   "source": []
  },
  {
   "cell_type": "code",
   "execution_count": 45,
   "metadata": {},
   "outputs": [],
   "source": [
    "#question one\n",
    "#lets read an image\n",
    "image=cv2.imread('/Users/realpranavc/REAL BITCAMP/Bitcamp-2023/images/ppweewee.jpeg')\n",
    "# image2 = cv2.normalize(image, None, 0, 1.0, cv2.NORM_MINMAX, dtype=cv2.CV_32F)\n",
    "gray = cv2.cvtColor(image, cv2.COLOR_BGR2GRAY)\n",
    "\n",
    "resultimage = np.zeros((800, 800))\n",
    "#normalizing the given image using normalize() function\n",
    "normalizedimage = cv2.normalize(gray,resultimage, 0, 100, cv2.NORM_MINMAX)\n"
   ]
  },
  {
   "cell_type": "code",
   "execution_count": 46,
   "metadata": {},
   "outputs": [
    {
     "name": "stdout",
     "output_type": "stream",
     "text": [
      "['chicken waff meal', 'drinks']\n",
      "['$8.99', '$3.78']\n",
      "[1, 2]\n"
     ]
    }
   ],
   "source": [
    "#convert it into text\n",
    "text=(pytesseract.image_to_string(normalizedimage)).lower()\n",
    "vals = text.split('\\n')\n",
    "pattern = r'^(\\d*)\\s*([[a-zA-Z+|\\s|\\d]+) (\\$?(\\d+\\.*\\d+))$'\n",
    "prices= []\n",
    "items= []\n",
    "quantity= []\n",
    "for line in vals:\n",
    "    # print( line)\n",
    "    # print( re.match(pattern, line))\n",
    "    max1= re.match(pattern, line)\n",
    "    if max1:\n",
    "        if float(max1.group(4)) <= 10000:\n",
    "            if max1.group(1) == \"\":\n",
    "                quantity.append(1)\n",
    "            else:\n",
    "                quantity.append(int(max1.group(1)))\n",
    "            items.append(max1.group(2))\n",
    "            prices.append(max1.group(3))\n",
    "print(items)\n",
    "print(prices)\n",
    "print(quantity)"
   ]
  },
  {
   "cell_type": "code",
   "execution_count": null,
   "metadata": {},
   "outputs": [],
   "source": []
  }
 ],
 "metadata": {
  "kernelspec": {
   "display_name": "Python 3",
   "language": "python",
   "name": "python3"
  },
  "language_info": {
   "codemirror_mode": {
    "name": "ipython",
    "version": 3
   },
   "file_extension": ".py",
   "mimetype": "text/x-python",
   "name": "python",
   "nbconvert_exporter": "python",
   "pygments_lexer": "ipython3",
   "version": "3.11.2"
  }
 },
 "nbformat": 4,
 "nbformat_minor": 4
}
